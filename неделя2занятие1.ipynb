{
 "cells": [
  {
   "cell_type": "code",
   "execution_count": 1,
   "metadata": {},
   "outputs": [],
   "source": [
    "?open"
   ]
  },
  {
   "cell_type": "code",
   "execution_count": 3,
   "metadata": {},
   "outputs": [
    {
     "data": {
      "text/plain": [
       "file"
      ]
     },
     "execution_count": 3,
     "metadata": {},
     "output_type": "execute_result"
    }
   ],
   "source": [
    "file_obj=open('rf.txt')\n",
    "type(file_obj)"
   ]
  },
  {
   "cell_type": "code",
   "execution_count": 4,
   "metadata": {},
   "outputs": [
    {
     "name": "stdout",
     "output_type": "stream",
     "text": [
      "g3tbrsfdtgr\n",
      "teg\n",
      "gr\n"
     ]
    }
   ],
   "source": [
    "print file_obj.read()"
   ]
  },
  {
   "cell_type": "code",
   "execution_count": 19,
   "metadata": {},
   "outputs": [
    {
     "name": "stdout",
     "output_type": "stream",
     "text": [
      "jhfghgd\n"
     ]
    }
   ],
   "source": [
    "file_obj=open('file_to_writes.txt', 'w')\n",
    "string = 'jhfghgd'\n",
    "file_obj.write(string)\n",
    "file_obj.close()\n",
    "\n",
    "file_o = open('file_to_writes.txt', 'r')\n",
    "print file_o.read()"
   ]
  },
  {
   "cell_type": "code",
   "execution_count": 18,
   "metadata": {},
   "outputs": [
    {
     "name": "stderr",
     "output_type": "stream",
     "text": [
      "\"cat\" ­Ґ пў«пҐвбп ў­гваҐ­­Ґ© Ё«Ё ў­Ґи­Ґ©\n",
      "Є®¬ ­¤®©, ЁбЇ®«­пҐ¬®© Їа®Ја ¬¬®© Ё«Ё Ї ЄҐв­л¬ д ©«®¬.\n"
     ]
    }
   ],
   "source": [
    "!cat file_to_writes.txt"
   ]
  },
  {
   "cell_type": "code",
   "execution_count": 23,
   "metadata": {},
   "outputs": [],
   "source": [
    "a=range(1,20,2)\n",
    "with open('secondf.txt', 'w') as file_obj:\n",
    "    file_obj.writelines(el+'\\n' for el in map(str, a)и\n",
    "                       )\n"
   ]
  },
  {
   "cell_type": "code",
   "execution_count": 25,
   "metadata": {},
   "outputs": [],
   "source": [
    "import pandas as pd"
   ]
  },
  {
   "cell_type": "code",
   "execution_count": 26,
   "metadata": {},
   "outputs": [
    {
     "data": {
      "text/html": [
       "<div>\n",
       "<style scoped>\n",
       "    .dataframe tbody tr th:only-of-type {\n",
       "        vertical-align: middle;\n",
       "    }\n",
       "\n",
       "    .dataframe tbody tr th {\n",
       "        vertical-align: top;\n",
       "    }\n",
       "\n",
       "    .dataframe thead th {\n",
       "        text-align: right;\n",
       "    }\n",
       "</style>\n",
       "<table border=\"1\" class=\"dataframe\">\n",
       "  <thead>\n",
       "    <tr style=\"text-align: right;\">\n",
       "      <th></th>\n",
       "      <th>chars</th>\n",
       "      <th>numbers</th>\n",
       "    </tr>\n",
       "  </thead>\n",
       "  <tbody>\n",
       "    <tr>\n",
       "      <th>0</th>\n",
       "      <td>a</td>\n",
       "      <td>1</td>\n",
       "    </tr>\n",
       "    <tr>\n",
       "      <th>1</th>\n",
       "      <td>a</td>\n",
       "      <td>2</td>\n",
       "    </tr>\n",
       "    <tr>\n",
       "      <th>2</th>\n",
       "      <td>a</td>\n",
       "      <td>3</td>\n",
       "    </tr>\n",
       "    <tr>\n",
       "      <th>3</th>\n",
       "      <td>a</td>\n",
       "      <td>4</td>\n",
       "    </tr>\n",
       "  </tbody>\n",
       "</table>\n",
       "</div>"
      ],
      "text/plain": [
       "  chars  numbers\n",
       "0     a        1\n",
       "1     a        2\n",
       "2     a        3\n",
       "3     a        4"
      ]
     },
     "execution_count": 26,
     "metadata": {},
     "output_type": "execute_result"
    }
   ],
   "source": [
    "frame = pd.DataFrame({'numbers':range(1,5), 'chars':['a']*4})\n",
    "frame\n"
   ]
  },
  {
   "cell_type": "code",
   "execution_count": 29,
   "metadata": {},
   "outputs": [
    {
     "data": {
      "text/html": [
       "<div>\n",
       "<style scoped>\n",
       "    .dataframe tbody tr th:only-of-type {\n",
       "        vertical-align: middle;\n",
       "    }\n",
       "\n",
       "    .dataframe tbody tr th {\n",
       "        vertical-align: top;\n",
       "    }\n",
       "\n",
       "    .dataframe thead th {\n",
       "        text-align: right;\n",
       "    }\n",
       "</style>\n",
       "<table border=\"1\" class=\"dataframe\">\n",
       "  <thead>\n",
       "    <tr style=\"text-align: right;\">\n",
       "      <th></th>\n",
       "      <th>Name</th>\n",
       "      <th>Birth</th>\n",
       "      <th>City</th>\n",
       "      <th>Position</th>\n",
       "    </tr>\n",
       "  </thead>\n",
       "  <tbody>\n",
       "    <tr>\n",
       "      <th>0</th>\n",
       "      <td>Иванов А.А.</td>\n",
       "      <td>22.03.1980</td>\n",
       "      <td>Москва</td>\n",
       "      <td>NaN</td>\n",
       "    </tr>\n",
       "    <tr>\n",
       "      <th>1</th>\n",
       "      <td>Сорокин И.В.</td>\n",
       "      <td>07.08.1965</td>\n",
       "      <td>Волгоград</td>\n",
       "      <td>инженер</td>\n",
       "    </tr>\n",
       "    <tr>\n",
       "      <th>2</th>\n",
       "      <td>Белов М.М.</td>\n",
       "      <td>13.02.1980</td>\n",
       "      <td>Ростов</td>\n",
       "      <td>менеджер</td>\n",
       "    </tr>\n",
       "    <tr>\n",
       "      <th>3</th>\n",
       "      <td>Мельникова Д.С.</td>\n",
       "      <td>15.04.1985</td>\n",
       "      <td>Ростов</td>\n",
       "      <td>NaN</td>\n",
       "    </tr>\n",
       "    <tr>\n",
       "      <th>4</th>\n",
       "      <td>Рыбина Е.П.</td>\n",
       "      <td>19.11.1985</td>\n",
       "      <td>Москва</td>\n",
       "      <td>инженер</td>\n",
       "    </tr>\n",
       "    <tr>\n",
       "      <th>5</th>\n",
       "      <td>Костров С.О.</td>\n",
       "      <td>31.05.1985</td>\n",
       "      <td>Москва</td>\n",
       "      <td>стажер</td>\n",
       "    </tr>\n",
       "  </tbody>\n",
       "</table>\n",
       "</div>"
      ],
      "text/plain": [
       "              Name       Birth       City  Position\n",
       "0      Иванов А.А.  22.03.1980     Москва       NaN\n",
       "1     Сорокин И.В.  07.08.1965  Волгоград   инженер\n",
       "2       Белов М.М.  13.02.1980     Ростов  менеджер\n",
       "3  Мельникова Д.С.  15.04.1985     Ростов       NaN\n",
       "4      Рыбина Е.П.  19.11.1985     Москва   инженер\n",
       "5     Костров С.О.  31.05.1985     Москва    стажер"
      ]
     },
     "execution_count": 29,
     "metadata": {},
     "output_type": "execute_result"
    }
   ],
   "source": [
    "frame = pd.read_csv('testf.tsv', header = 0, sep ='\\t')\n",
    "frame"
   ]
  },
  {
   "cell_type": "code",
   "execution_count": 39,
   "metadata": {},
   "outputs": [
    {
     "data": {
      "text/html": [
       "<div>\n",
       "<style scoped>\n",
       "    .dataframe tbody tr th:only-of-type {\n",
       "        vertical-align: middle;\n",
       "    }\n",
       "\n",
       "    .dataframe tbody tr th {\n",
       "        vertical-align: top;\n",
       "    }\n",
       "\n",
       "    .dataframe thead th {\n",
       "        text-align: right;\n",
       "    }\n",
       "</style>\n",
       "<table border=\"1\" class=\"dataframe\">\n",
       "  <thead>\n",
       "    <tr style=\"text-align: right;\">\n",
       "      <th></th>\n",
       "      <th>Name</th>\n",
       "      <th>Birth</th>\n",
       "      <th>City</th>\n",
       "      <th>Position</th>\n",
       "    </tr>\n",
       "  </thead>\n",
       "  <tbody>\n",
       "    <tr>\n",
       "      <th>0</th>\n",
       "      <td>Иванов А.А.</td>\n",
       "      <td>22.03.1980</td>\n",
       "      <td>Москва</td>\n",
       "      <td>NaN</td>\n",
       "    </tr>\n",
       "    <tr>\n",
       "      <th>1</th>\n",
       "      <td>Сорокин И.В.</td>\n",
       "      <td>07.08.1965</td>\n",
       "      <td>Волгоград</td>\n",
       "      <td>инженер</td>\n",
       "    </tr>\n",
       "    <tr>\n",
       "      <th>2</th>\n",
       "      <td>Белов М.М.</td>\n",
       "      <td>13.02.1980</td>\n",
       "      <td>Ростов</td>\n",
       "      <td>менеджер</td>\n",
       "    </tr>\n",
       "    <tr>\n",
       "      <th>3</th>\n",
       "      <td>Мельникова Д.С.</td>\n",
       "      <td>15.04.1985</td>\n",
       "      <td>Ростов</td>\n",
       "      <td>NaN</td>\n",
       "    </tr>\n",
       "    <tr>\n",
       "      <th>4</th>\n",
       "      <td>Рыбина Е.П.</td>\n",
       "      <td>19.11.1985</td>\n",
       "      <td>Москва</td>\n",
       "      <td>инженер</td>\n",
       "    </tr>\n",
       "    <tr>\n",
       "      <th>5</th>\n",
       "      <td>Костров С.О.</td>\n",
       "      <td>31.05.1985</td>\n",
       "      <td>Москва</td>\n",
       "      <td>стажер</td>\n",
       "    </tr>\n",
       "    <tr>\n",
       "      <th>6</th>\n",
       "      <td>Валиуллина А.И.</td>\n",
       "      <td>15.15.2018</td>\n",
       "      <td>SPb</td>\n",
       "      <td>NaN</td>\n",
       "    </tr>\n",
       "  </tbody>\n",
       "</table>\n",
       "</div>"
      ],
      "text/plain": [
       "              Name       Birth       City  Position\n",
       "0      Иванов А.А.  22.03.1980     Москва       NaN\n",
       "1     Сорокин И.В.  07.08.1965  Волгоград   инженер\n",
       "2       Белов М.М.  13.02.1980     Ростов  менеджер\n",
       "3  Мельникова Д.С.  15.04.1985     Ростов       NaN\n",
       "4      Рыбина Е.П.  19.11.1985     Москва   инженер\n",
       "5     Костров С.О.  31.05.1985     Москва    стажер\n",
       "6  Валиуллина А.И.  15.15.2018        SPb       NaN"
      ]
     },
     "execution_count": 39,
     "metadata": {},
     "output_type": "execute_result"
    }
   ],
   "source": [
    "frame.columns\n",
    "new_new = {'Name':'Валиуллина А.И.', 'Birth':'15.15.2018', 'City':'SPb'}\n",
    "frame.append(new_new, ignore_index=True)"
   ]
  },
  {
   "cell_type": "code",
   "execution_count": 39,
   "metadata": {},
   "outputs": [
    {
     "data": {
      "text/html": [
       "<div>\n",
       "<style scoped>\n",
       "    .dataframe tbody tr th:only-of-type {\n",
       "        vertical-align: middle;\n",
       "    }\n",
       "\n",
       "    .dataframe tbody tr th {\n",
       "        vertical-align: top;\n",
       "    }\n",
       "\n",
       "    .dataframe thead th {\n",
       "        text-align: right;\n",
       "    }\n",
       "</style>\n",
       "<table border=\"1\" class=\"dataframe\">\n",
       "  <thead>\n",
       "    <tr style=\"text-align: right;\">\n",
       "      <th></th>\n",
       "      <th>Name</th>\n",
       "      <th>Birth</th>\n",
       "      <th>City</th>\n",
       "      <th>Position</th>\n",
       "    </tr>\n",
       "  </thead>\n",
       "  <tbody>\n",
       "    <tr>\n",
       "      <th>0</th>\n",
       "      <td>Иванов А.А.</td>\n",
       "      <td>22.03.1980</td>\n",
       "      <td>Москва</td>\n",
       "      <td>NaN</td>\n",
       "    </tr>\n",
       "    <tr>\n",
       "      <th>1</th>\n",
       "      <td>Сорокин И.В.</td>\n",
       "      <td>07.08.1965</td>\n",
       "      <td>Волгоград</td>\n",
       "      <td>инженер</td>\n",
       "    </tr>\n",
       "    <tr>\n",
       "      <th>2</th>\n",
       "      <td>Белов М.М.</td>\n",
       "      <td>13.02.1980</td>\n",
       "      <td>Ростов</td>\n",
       "      <td>менеджер</td>\n",
       "    </tr>\n",
       "    <tr>\n",
       "      <th>3</th>\n",
       "      <td>Мельникова Д.С.</td>\n",
       "      <td>15.04.1985</td>\n",
       "      <td>Ростов</td>\n",
       "      <td>NaN</td>\n",
       "    </tr>\n",
       "    <tr>\n",
       "      <th>4</th>\n",
       "      <td>Рыбина Е.П.</td>\n",
       "      <td>19.11.1985</td>\n",
       "      <td>Москва</td>\n",
       "      <td>инженер</td>\n",
       "    </tr>\n",
       "    <tr>\n",
       "      <th>5</th>\n",
       "      <td>Костров С.О.</td>\n",
       "      <td>31.05.1985</td>\n",
       "      <td>Москва</td>\n",
       "      <td>стажер</td>\n",
       "    </tr>\n",
       "    <tr>\n",
       "      <th>6</th>\n",
       "      <td>Валиуллина А.И.</td>\n",
       "      <td>15.15.2018</td>\n",
       "      <td>SPb</td>\n",
       "      <td>NaN</td>\n",
       "    </tr>\n",
       "  </tbody>\n",
       "</table>\n",
       "</div>"
      ],
      "text/plain": [
       "              Name       Birth       City  Position\n",
       "0      Иванов А.А.  22.03.1980     Москва       NaN\n",
       "1     Сорокин И.В.  07.08.1965  Волгоград   инженер\n",
       "2       Белов М.М.  13.02.1980     Ростов  менеджер\n",
       "3  Мельникова Д.С.  15.04.1985     Ростов       NaN\n",
       "4      Рыбина Е.П.  19.11.1985     Москва   инженер\n",
       "5     Костров С.О.  31.05.1985     Москва    стажер\n",
       "6  Валиуллина А.И.  15.15.2018        SPb       NaN"
      ]
     },
     "execution_count": 39,
     "metadata": {},
     "output_type": "execute_result"
    }
   ],
   "source": [
    "frame.columns\n",
    "new_new = {'Name':'Валиуллина А.И.', 'Birth':'15.15.2018', 'City':'SPb'}\n",
    "frame.append(new_new, ignore_index=True)"
   ]
  },
  {
   "cell_type": "code",
   "execution_count": 40,
   "metadata": {},
   "outputs": [
    {
     "data": {
      "text/plain": [
       "Index([u'Name', u'Birth', u'City', u'Position'], dtype='object')"
      ]
     },
     "execution_count": 40,
     "metadata": {},
     "output_type": "execute_result"
    }
   ],
   "source": [
    "frame.columns"
   ]
  },
  {
   "cell_type": "code",
   "execution_count": 43,
   "metadata": {},
   "outputs": [],
   "source": [
    "frame = frame.append(new_new, ignore_index=True)"
   ]
  },
  {
   "cell_type": "code",
   "execution_count": 49,
   "metadata": {},
   "outputs": [],
   "source": [
    "frame['new_col'] = [1,2,3]*2 + [5 ]\n"
   ]
  },
  {
   "cell_type": "code",
   "execution_count": 50,
   "metadata": {},
   "outputs": [
    {
     "data": {
      "text/html": [
       "<div>\n",
       "<style scoped>\n",
       "    .dataframe tbody tr th:only-of-type {\n",
       "        vertical-align: middle;\n",
       "    }\n",
       "\n",
       "    .dataframe tbody tr th {\n",
       "        vertical-align: top;\n",
       "    }\n",
       "\n",
       "    .dataframe thead th {\n",
       "        text-align: right;\n",
       "    }\n",
       "</style>\n",
       "<table border=\"1\" class=\"dataframe\">\n",
       "  <thead>\n",
       "    <tr style=\"text-align: right;\">\n",
       "      <th></th>\n",
       "      <th>Name</th>\n",
       "      <th>Birth</th>\n",
       "      <th>City</th>\n",
       "      <th>Position</th>\n",
       "      <th>new_col</th>\n",
       "    </tr>\n",
       "  </thead>\n",
       "  <tbody>\n",
       "    <tr>\n",
       "      <th>0</th>\n",
       "      <td>Иванов А.А.</td>\n",
       "      <td>22.03.1980</td>\n",
       "      <td>Москва</td>\n",
       "      <td>NaN</td>\n",
       "      <td>1</td>\n",
       "    </tr>\n",
       "    <tr>\n",
       "      <th>1</th>\n",
       "      <td>Сорокин И.В.</td>\n",
       "      <td>07.08.1965</td>\n",
       "      <td>Волгоград</td>\n",
       "      <td>инженер</td>\n",
       "      <td>2</td>\n",
       "    </tr>\n",
       "    <tr>\n",
       "      <th>2</th>\n",
       "      <td>Белов М.М.</td>\n",
       "      <td>13.02.1980</td>\n",
       "      <td>Ростов</td>\n",
       "      <td>менеджер</td>\n",
       "      <td>3</td>\n",
       "    </tr>\n",
       "    <tr>\n",
       "      <th>3</th>\n",
       "      <td>Мельникова Д.С.</td>\n",
       "      <td>15.04.1985</td>\n",
       "      <td>Ростов</td>\n",
       "      <td>NaN</td>\n",
       "      <td>1</td>\n",
       "    </tr>\n",
       "    <tr>\n",
       "      <th>4</th>\n",
       "      <td>Рыбина Е.П.</td>\n",
       "      <td>19.11.1985</td>\n",
       "      <td>Москва</td>\n",
       "      <td>инженер</td>\n",
       "      <td>2</td>\n",
       "    </tr>\n",
       "    <tr>\n",
       "      <th>5</th>\n",
       "      <td>Костров С.О.</td>\n",
       "      <td>31.05.1985</td>\n",
       "      <td>Москва</td>\n",
       "      <td>стажер</td>\n",
       "      <td>3</td>\n",
       "    </tr>\n",
       "    <tr>\n",
       "      <th>6</th>\n",
       "      <td>Валиуллина А.И.</td>\n",
       "      <td>15.15.2018</td>\n",
       "      <td>SPb</td>\n",
       "      <td>NaN</td>\n",
       "      <td>5</td>\n",
       "    </tr>\n",
       "  </tbody>\n",
       "</table>\n",
       "</div>"
      ],
      "text/plain": [
       "              Name       Birth       City  Position  new_col\n",
       "0      Иванов А.А.  22.03.1980     Москва       NaN        1\n",
       "1     Сорокин И.В.  07.08.1965  Волгоград   инженер        2\n",
       "2       Белов М.М.  13.02.1980     Ростов  менеджер        3\n",
       "3  Мельникова Д.С.  15.04.1985     Ростов       NaN        1\n",
       "4      Рыбина Е.П.  19.11.1985     Москва   инженер        2\n",
       "5     Костров С.О.  31.05.1985     Москва    стажер        3\n",
       "6  Валиуллина А.И.  15.15.2018        SPb       NaN        5"
      ]
     },
     "execution_count": 50,
     "metadata": {},
     "output_type": "execute_result"
    }
   ],
   "source": [
    "frame"
   ]
  },
  {
   "cell_type": "code",
   "execution_count": 51,
   "metadata": {},
   "outputs": [],
   "source": [
    "frame.drop ([1,3], axis=0, inplace=True)"
   ]
  },
  {
   "cell_type": "code",
   "execution_count": 53,
   "metadata": {},
   "outputs": [],
   "source": [
    "frame.drop ('Birth', axis=1, inplace=True)"
   ]
  },
  {
   "cell_type": "code",
   "execution_count": 55,
   "metadata": {},
   "outputs": [],
   "source": [
    "frame.to_csv('new_file.csv', sep=',', header=True)"
   ]
  },
  {
   "cell_type": "code",
   "execution_count": 56,
   "metadata": {},
   "outputs": [
    {
     "name": "stderr",
     "output_type": "stream",
     "text": [
      "\"cat\" ­Ґ пў«пҐвбп ў­гваҐ­­Ґ© Ё«Ё ў­Ґи­Ґ©\n",
      "Є®¬ ­¤®©, ЁбЇ®«­пҐ¬®© Їа®Ја ¬¬®© Ё«Ё Ї ЄҐв­л¬ д ©«®¬.\n"
     ]
    }
   ],
   "source": [
    "!cat"
   ]
  }
 ],
 "metadata": {
  "kernelspec": {
   "display_name": "Python 2",
   "language": "python",
   "name": "python2"
  },
  "language_info": {
   "codemirror_mode": {
    "name": "ipython",
    "version": 2
   },
   "file_extension": ".py",
   "mimetype": "text/x-python",
   "name": "python",
   "nbconvert_exporter": "python",
   "pygments_lexer": "ipython2",
   "version": "2.7.15"
  }
 },
 "nbformat": 4,
 "nbformat_minor": 2
}
